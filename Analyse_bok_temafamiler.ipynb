{
 "cells": [
  {
   "cell_type": "markdown",
   "metadata": {},
   "source": [
    "# Analyser bøker med en familie ordsekker"
   ]
  },
  {
   "cell_type": "code",
   "execution_count": 11,
   "metadata": {},
   "outputs": [
    {
     "data": {
      "text/markdown": [
       "Updated file `C:\\Users\\yoons\\Documents\\GitHub\\Trawling\\mods_meta.py`"
      ],
      "text/plain": [
       "<IPython.core.display.Markdown object>"
      ]
     },
     "metadata": {},
     "output_type": "display_data"
    },
    {
     "data": {
      "text/markdown": [
       "Updated file `C:\\Users\\yoons\\Documents\\GitHub\\Trawling\\wordbank.py`"
      ],
      "text/plain": [
       "<IPython.core.display.Markdown object>"
      ]
     },
     "metadata": {},
     "output_type": "display_data"
    }
   ],
   "source": [
    "import json\n",
    "import sqlite3\n",
    "import requests\n",
    "import pandas as pd\n",
    "import dask\n",
    "import pandas as pd\n",
    "import dhlab.module_update as mu\n",
    "mu.update('mods_meta')\n",
    "import mods_meta as mm\n",
    "import dhlab.nbtext as nb\n",
    "import re\n",
    "from IPython.display import Markdown, display\n",
    "from collections import Counter\n",
    "from dhlab.nbtokenizer import tokenize\n",
    "import networkx as nx\n",
    "import dhlab.graph_networkx_louvain as gnl\n",
    "import datetime\n",
    "from scipy.spatial.distance import cosine\n",
    "from sklearn.metrics.pairwise import cosine_similarity, cosine_distances\n",
    "import matplotlib.pyplot as plt\n",
    "from sklearn.preprocessing import StandardScaler\n",
    "import json\n",
    "mu.update('wordbank')"
   ]
  },
  {
   "cell_type": "code",
   "execution_count": 12,
   "metadata": {},
   "outputs": [],
   "source": [
    "from wordbank import word_paradigm_many"
   ]
  },
  {
   "cell_type": "code",
   "execution_count": 2,
   "metadata": {},
   "outputs": [
    {
     "data": {
      "text/html": [
       "<style>@import url(\n",
       "http://fonts.googleapis.com/css?family=Lato|Philosopher|Montserrat|Source+Code+Pro|Istok+Web|Philosopher|Assistant:200,400,700);\n",
       "\n",
       "/*\n",
       "#notebook-container {\n",
       "\t-webkit-box-shadow: none;\n",
       "\tbox-shadow: none;\n",
       "}\n",
       "*/\n",
       "\n",
       "h1, h2, h3, h4, h5, h6 {\n",
       "\tfont-family: 'Montserrat', sans-serif;\n",
       "\tline-height: 2em;\n",
       "    color: #004f99;\n",
       "    font-weight: 600;\n",
       "}\n",
       "\n",
       "h1 { font-size: 4.5em; }\n",
       "h2 { font-size: 4em; }\n",
       "h3 { font-size: 3.5em; }\n",
       "h4 { font-size: 3em; }\n",
       "h5 { font-size: 2.5em; color:DarkSlateGray; }\n",
       "h6 { font-size: 2em; }\n",
       "\n",
       "p {\n",
       "\tfont-family: 'Assistant', sans-serif; \n",
       "\tfont-size: 1.2em;\n",
       "\tline-height: 1.4em;\n",
       "\tcolor: black;\n",
       "}\n",
       "p code {\n",
       "\tfont-size:0.9em;\n",
       "}\n",
       "div.input_area {\n",
       "\tborder:none !important;\n",
       "\tborder-left:1px solid #ff851b !important\n",
       "}\n",
       "\n",
       "span.cm-keyword {\n",
       "\tcolor:#339966 !important;\n",
       "}\n",
       "span.nn {  /*span.cm-variable, span.cm-property*/\n",
       "\tcolor: #3399ff !important;\n",
       "}\n",
       "div.CodeMirror {\n",
       "\tfont-family: 'Inconsolata', monospace;\n",
       "\tfont-size: 1.1em;\n",
       "\t\n",
       "}\n",
       "</style>"
      ],
      "text/plain": [
       "<IPython.core.display.HTML object>"
      ]
     },
     "execution_count": 2,
     "metadata": {},
     "output_type": "execute_result"
    }
   ],
   "source": [
    "mu.css()"
   ]
  },
  {
   "cell_type": "markdown",
   "metadata": {},
   "source": [
    "Set fontsizes for plots etc."
   ]
  },
  {
   "cell_type": "code",
   "execution_count": 4,
   "metadata": {},
   "outputs": [
    {
     "data": {
      "text/markdown": [
       "Updated file `C:\\Users\\yoons\\Documents\\GitHub\\Trawling\\mods_meta.py`"
      ],
      "text/plain": [
       "<IPython.core.display.Markdown object>"
      ]
     },
     "metadata": {},
     "output_type": "display_data"
    },
    {
     "data": {
      "text/markdown": [
       "Updated file `C:\\Users\\yoons\\Documents\\GitHub\\Trawling\\collocations.py`"
      ],
      "text/plain": [
       "<IPython.core.display.Markdown object>"
      ]
     },
     "metadata": {},
     "output_type": "display_data"
    }
   ],
   "source": [
    "from nb_api_kollokasjon_konk import *"
   ]
  },
  {
   "cell_type": "code",
   "execution_count": 5,
   "metadata": {},
   "outputs": [],
   "source": [
    "def corpus_def(urns):\n",
    "    metadata = mm.metadata(urns)\n",
    "    urns = [u for u in metadata if metadata[u] != []]\n",
    "    return nb.frame({u:metadata[u] for u in urns})"
   ]
  },
  {
   "cell_type": "code",
   "execution_count": 6,
   "metadata": {},
   "outputs": [],
   "source": [
    "def evaluate(temaer, corpus):\n",
    "    theme_eval = nb.wordbag_eval(temaer,list(corpus.index))\n",
    "    # legger til metadata\n",
    "    result = theme_eval.join(titlestmnt(corpus))\n",
    "    return result"
   ]
  },
  {
   "cell_type": "code",
   "execution_count": 25,
   "metadata": {},
   "outputs": [],
   "source": [
    "def declensions(wordbagfamily, pos = None):\n",
    "    \"\"\"Set pos to subst, verb or adj for limiting the inflectional forms\"\"\"\n",
    "    if isinstance(pos, list):\n",
    "        res = {key: list(set([w for infl_set in word_paradigm_many(wordbagfamily[key]) for w in infl_set[2] if infl_set [1] in pos])) for key in wordbagfamily}\n",
    "    elif isinstance( pos, str):\n",
    "        res = {key: list(set([w for infl_set in word_paradigm_many(wordbagfamily[key]) for w in infl_set[2] if infl_set [1] == pos])) for key in wordbagfamily}\n",
    "    else:\n",
    "        res = {key: list(set([w for infl_set in word_paradigm_many(wordbagfamily[key]) for w in infl_set[2]])) for key in wordbagfamily}\n",
    "    return res\n",
    "    \n",
    "    "
   ]
  },
  {
   "cell_type": "code",
   "execution_count": 7,
   "metadata": {},
   "outputs": [],
   "source": [
    "titlestmnt = lambda x: pd.DataFrame(x[['245-1-0-a', '245-1-0-b','100-1- -a']])"
   ]
  },
  {
   "cell_type": "markdown",
   "metadata": {},
   "source": [
    "# Lag familien "
   ]
  },
  {
   "cell_type": "markdown",
   "metadata": {},
   "source": [
    "Formen er en samling begreper med markører. De bør helst ikke noe til felles, for å lette tolkning av tellingen."
   ]
  },
  {
   "cell_type": "code",
   "execution_count": 112,
   "metadata": {},
   "outputs": [],
   "source": [
    "semantics = {\n",
    "    'vehicles_': \"kjøretøy biler bil\".split(),\n",
    "    'collective_': \"fly tog buss trikk kollektivtransport lastebiler\".split(),\n",
    "    'roads_': \"vei gate motorvei grusvei fortau\".split(),\n",
    "    'traffic_': \"trafikk rushtid trafikk-kaos påsketrafikk\".split(),\n",
    "    'soft_': \"fotgjengere gående sykkel sykling\".split(),\n",
    "}"
   ]
  },
  {
   "cell_type": "markdown",
   "metadata": {},
   "source": [
    "Fyll opp med bøyde former"
   ]
  },
  {
   "cell_type": "code",
   "execution_count": 113,
   "metadata": {},
   "outputs": [],
   "source": [
    "enriched_semantics = declensions(semantics, pos='subs')"
   ]
  },
  {
   "cell_type": "code",
   "execution_count": 114,
   "metadata": {},
   "outputs": [
    {
     "data": {
      "text/plain": [
       "{'vehicles_': ['bilen',\n",
       "  'bil',\n",
       "  'kjøretøy',\n",
       "  'biler',\n",
       "  'bilene',\n",
       "  'bile',\n",
       "  'kjøretøyer',\n",
       "  'kjøretøyene',\n",
       "  'kjøretøya',\n",
       "  'kjøretøyet',\n",
       "  'bila'],\n",
       " 'collective_': ['bussen',\n",
       "  'trikkene',\n",
       "  'lastebilene',\n",
       "  'trikker',\n",
       "  'lastebilen',\n",
       "  'buss',\n",
       "  'trikken',\n",
       "  'flyet',\n",
       "  'tog',\n",
       "  'flyen',\n",
       "  'flya',\n",
       "  'toga',\n",
       "  'trikk',\n",
       "  'lastebil',\n",
       "  'togene',\n",
       "  'lastebiler',\n",
       "  'bussene',\n",
       "  'flyene',\n",
       "  'flyer',\n",
       "  'busser',\n",
       "  'trikka',\n",
       "  'fly',\n",
       "  'toget',\n",
       "  'trikket'],\n",
       " 'roads_': ['gatene',\n",
       "  'grusveien',\n",
       "  'fortauet',\n",
       "  'vei',\n",
       "  'gate',\n",
       "  'motorveier',\n",
       "  'veiene',\n",
       "  'veier',\n",
       "  'grusvei',\n",
       "  'gata',\n",
       "  'gaten',\n",
       "  'veien',\n",
       "  'motorvei',\n",
       "  'motorveien',\n",
       "  'grusveiene',\n",
       "  'fortaua',\n",
       "  'fortauer',\n",
       "  'grusveier',\n",
       "  'fortauene',\n",
       "  'motorveiene',\n",
       "  'gater',\n",
       "  'fortau'],\n",
       " 'traffic_': ['trafikk-kaosene',\n",
       "  'trafikk-kaoser',\n",
       "  'trafikk-kaoset',\n",
       "  'trafikker',\n",
       "  'rushtider',\n",
       "  'rushtidene',\n",
       "  'rushtid',\n",
       "  'trafikk',\n",
       "  'trafikkene',\n",
       "  'rushtida',\n",
       "  'trafikk-kaosa',\n",
       "  'rushtiden',\n",
       "  'trafikken',\n",
       "  'trafikk-kaos'],\n",
       " 'soft_': ['fotgjengerne',\n",
       "  'fotgjengeren',\n",
       "  'sykler',\n",
       "  'syklene',\n",
       "  'fotgjenger',\n",
       "  'fotgjengerer',\n",
       "  'fotgjengere',\n",
       "  'sykkelen',\n",
       "  'sykkel']}"
      ]
     },
     "execution_count": 114,
     "metadata": {},
     "output_type": "execute_result"
    }
   ],
   "source": [
    "enriched_semantics"
   ]
  },
  {
   "cell_type": "markdown",
   "metadata": {},
   "source": [
    "# Definer et korpus ved å sample bøker med metadata"
   ]
  },
  {
   "cell_type": "code",
   "execution_count": 144,
   "metadata": {},
   "outputs": [],
   "source": [
    "korpus = {yearstart: nb.book_corpus(ddk = '839%', limit = 10000, period = (yearstart, yearstart + 10)) for yearstart in range(1960, 2010, 10)}"
   ]
  },
  {
   "cell_type": "markdown",
   "metadata": {},
   "source": [
    "# Ta en titt på korpus"
   ]
  },
  {
   "cell_type": "code",
   "execution_count": 145,
   "metadata": {},
   "outputs": [
    {
     "data": {
      "text/html": [
       "<div>\n",
       "<style scoped>\n",
       "    .dataframe tbody tr th:only-of-type {\n",
       "        vertical-align: middle;\n",
       "    }\n",
       "\n",
       "    .dataframe tbody tr th {\n",
       "        vertical-align: top;\n",
       "    }\n",
       "\n",
       "    .dataframe thead th {\n",
       "        text-align: right;\n",
       "    }\n",
       "</style>\n",
       "<table border=\"1\" class=\"dataframe\">\n",
       "  <thead>\n",
       "    <tr style=\"text-align: right;\">\n",
       "      <th></th>\n",
       "      <th>urn</th>\n",
       "      <th>author</th>\n",
       "      <th>title</th>\n",
       "      <th>year</th>\n",
       "    </tr>\n",
       "  </thead>\n",
       "  <tbody>\n",
       "    <tr>\n",
       "      <th>0</th>\n",
       "      <td>2014041108065</td>\n",
       "      <td>Wolde, Gunilla</td>\n",
       "      <td>Emmas første dag i barnehagen</td>\n",
       "      <td>1976</td>\n",
       "    </tr>\n",
       "    <tr>\n",
       "      <th>1</th>\n",
       "      <td>2014062406025</td>\n",
       "      <td>Tverbak, Eivind</td>\n",
       "      <td>Med sverd og syndsforlatelse</td>\n",
       "      <td>1977</td>\n",
       "    </tr>\n",
       "    <tr>\n",
       "      <th>2</th>\n",
       "      <td>2012062006017</td>\n",
       "      <td>Ørum, Poul</td>\n",
       "      <td>Natt på venterommet</td>\n",
       "      <td>1974</td>\n",
       "    </tr>\n",
       "    <tr>\n",
       "      <th>3</th>\n",
       "      <td>2012022008102</td>\n",
       "      <td>Asklund, Erik</td>\n",
       "      <td>Gråfugl</td>\n",
       "      <td>1972</td>\n",
       "    </tr>\n",
       "    <tr>\n",
       "      <th>4</th>\n",
       "      <td>2014021806167</td>\n",
       "      <td>Holt, Kåre</td>\n",
       "      <td>Tore Kramkar</td>\n",
       "      <td>1978</td>\n",
       "    </tr>\n",
       "  </tbody>\n",
       "</table>\n",
       "</div>"
      ],
      "text/plain": [
       "             urn           author                          title  year\n",
       "0  2014041108065   Wolde, Gunilla  Emmas første dag i barnehagen  1976\n",
       "1  2014062406025  Tverbak, Eivind   Med sverd og syndsforlatelse  1977\n",
       "2  2012062006017       Ørum, Poul            Natt på venterommet  1974\n",
       "3  2012022008102    Asklund, Erik                        Gråfugl  1972\n",
       "4  2014021806167       Holt, Kåre                   Tore Kramkar  1978"
      ]
     },
     "execution_count": 145,
     "metadata": {},
     "output_type": "execute_result"
    }
   ],
   "source": [
    "korpus [1970].head()"
   ]
  },
  {
   "cell_type": "code",
   "execution_count": 132,
   "metadata": {},
   "outputs": [
    {
     "data": {
      "text/html": [
       "<div>\n",
       "<style scoped>\n",
       "    .dataframe tbody tr th:only-of-type {\n",
       "        vertical-align: middle;\n",
       "    }\n",
       "\n",
       "    .dataframe tbody tr th {\n",
       "        vertical-align: top;\n",
       "    }\n",
       "\n",
       "    .dataframe thead th {\n",
       "        text-align: right;\n",
       "    }\n",
       "</style>\n",
       "<table border=\"1\" class=\"dataframe\">\n",
       "  <thead>\n",
       "    <tr style=\"text-align: right;\">\n",
       "      <th></th>\n",
       "      <th>urn</th>\n",
       "      <th>author</th>\n",
       "      <th>title</th>\n",
       "      <th>year</th>\n",
       "    </tr>\n",
       "  </thead>\n",
       "  <tbody>\n",
       "    <tr>\n",
       "      <th>0</th>\n",
       "      <td>2007080200053</td>\n",
       "      <td></td>\n",
       "      <td>Dømt til sikring</td>\n",
       "      <td>1970</td>\n",
       "    </tr>\n",
       "    <tr>\n",
       "      <th>1</th>\n",
       "      <td>2011041308130</td>\n",
       "      <td></td>\n",
       "      <td>Folke- og boligtelling 2001</td>\n",
       "      <td>2003</td>\n",
       "    </tr>\n",
       "    <tr>\n",
       "      <th>2</th>\n",
       "      <td>2016101108073</td>\n",
       "      <td></td>\n",
       "      <td>Norges Industriforbund</td>\n",
       "      <td>1957</td>\n",
       "    </tr>\n",
       "    <tr>\n",
       "      <th>3</th>\n",
       "      <td>2014091106110</td>\n",
       "      <td></td>\n",
       "      <td>Institusjonsliv - et liv uten rettigheter?</td>\n",
       "      <td>1974</td>\n",
       "    </tr>\n",
       "    <tr>\n",
       "      <th>4</th>\n",
       "      <td>2007121200079</td>\n",
       "      <td>Ringstad, Vidar</td>\n",
       "      <td>Samfunnsøkonomi</td>\n",
       "      <td>1994</td>\n",
       "    </tr>\n",
       "  </tbody>\n",
       "</table>\n",
       "</div>"
      ],
      "text/plain": [
       "             urn           author                                       title  \\\n",
       "0  2007080200053                                             Dømt til sikring   \n",
       "1  2011041308130                                  Folke- og boligtelling 2001   \n",
       "2  2016101108073                                       Norges Industriforbund   \n",
       "3  2014091106110                   Institusjonsliv - et liv uten rettigheter?   \n",
       "4  2007121200079  Ringstad, Vidar                             Samfunnsøkonomi   \n",
       "\n",
       "   year  \n",
       "0  1970  \n",
       "1  2003  \n",
       "2  1957  \n",
       "3  1974  \n",
       "4  1994  "
      ]
     },
     "execution_count": 132,
     "metadata": {},
     "output_type": "execute_result"
    }
   ],
   "source": [
    "korpus2.head()"
   ]
  },
  {
   "cell_type": "markdown",
   "metadata": {},
   "source": [
    "# Evaluate corpus against categories"
   ]
  },
  {
   "cell_type": "code",
   "execution_count": 149,
   "metadata": {},
   "outputs": [],
   "source": [
    "korpus_eval = {year: nb.wordbag_eval(enriched_semantics, list(korpus[year].urn)) for year in korpus}"
   ]
  },
  {
   "cell_type": "code",
   "execution_count": 135,
   "metadata": {},
   "outputs": [],
   "source": [
    "def one(x):\n",
    "    \n",
    "    if isinstance(x, (float, int)) and x > 0:\n",
    "        res = 1\n",
    "    elif isinstance(x, (float, int)):\n",
    "        res = 0\n",
    "    else:\n",
    "        res = x\n",
    "    return res"
   ]
  },
  {
   "cell_type": "code",
   "execution_count": 136,
   "metadata": {},
   "outputs": [],
   "source": [
    "def plotfig(a_plot, font_size = 18):\n",
    "    fsize = plt.rcParams[\"font.size\"]\n",
    "    plt.rcParams[\"font.size\"] = font_size\n",
    "    ax = a_plot\n",
    "    ax.spines[\"top\"].set_visible(False)\n",
    "    ax.spines[\"right\"].set_visible(False)\n",
    "    ax.spines[\"bottom\"].set_color(\"grey\")\n",
    "    ax.spines[\"left\"].set_color(\"grey\")\n",
    "    ax.spines[\"bottom\"].set_linewidth(1)\n",
    "    ax.spines[\"left\"].set_linewidth(1)\n",
    "    #plt.rcParams[\"font.size\"] = fsize\n",
    "    return\n"
   ]
  },
  {
   "cell_type": "code",
   "execution_count": 150,
   "metadata": {},
   "outputs": [
    {
     "data": {
      "text/html": [
       "<div>\n",
       "<style scoped>\n",
       "    .dataframe tbody tr th:only-of-type {\n",
       "        vertical-align: middle;\n",
       "    }\n",
       "\n",
       "    .dataframe tbody tr th {\n",
       "        vertical-align: top;\n",
       "    }\n",
       "\n",
       "    .dataframe thead th {\n",
       "        text-align: right;\n",
       "    }\n",
       "</style>\n",
       "<table border=\"1\" class=\"dataframe\">\n",
       "  <thead>\n",
       "    <tr style=\"text-align: right;\">\n",
       "      <th></th>\n",
       "      <th>collective_</th>\n",
       "      <th>roads_</th>\n",
       "      <th>vehicles_</th>\n",
       "      <th>traffic_</th>\n",
       "      <th>soft_</th>\n",
       "      <th>snitt</th>\n",
       "    </tr>\n",
       "  </thead>\n",
       "  <tbody>\n",
       "    <tr>\n",
       "      <th>2011063022001</th>\n",
       "      <td>70.0</td>\n",
       "      <td>515.0</td>\n",
       "      <td>2.0</td>\n",
       "      <td>6.0</td>\n",
       "      <td>0.0</td>\n",
       "      <td>118.6</td>\n",
       "    </tr>\n",
       "    <tr>\n",
       "      <th>2007050804012</th>\n",
       "      <td>125.0</td>\n",
       "      <td>232.0</td>\n",
       "      <td>93.0</td>\n",
       "      <td>4.0</td>\n",
       "      <td>23.0</td>\n",
       "      <td>95.4</td>\n",
       "    </tr>\n",
       "    <tr>\n",
       "      <th>2007072001084</th>\n",
       "      <td>131.0</td>\n",
       "      <td>165.0</td>\n",
       "      <td>59.0</td>\n",
       "      <td>3.0</td>\n",
       "      <td>3.0</td>\n",
       "      <td>72.2</td>\n",
       "    </tr>\n",
       "    <tr>\n",
       "      <th>2007050401075</th>\n",
       "      <td>23.0</td>\n",
       "      <td>106.0</td>\n",
       "      <td>202.0</td>\n",
       "      <td>1.0</td>\n",
       "      <td>12.0</td>\n",
       "      <td>68.8</td>\n",
       "    </tr>\n",
       "    <tr>\n",
       "      <th>2007031501086</th>\n",
       "      <td>10.0</td>\n",
       "      <td>19.0</td>\n",
       "      <td>308.0</td>\n",
       "      <td>2.0</td>\n",
       "      <td>4.0</td>\n",
       "      <td>68.6</td>\n",
       "    </tr>\n",
       "    <tr>\n",
       "      <th>...</th>\n",
       "      <td>...</td>\n",
       "      <td>...</td>\n",
       "      <td>...</td>\n",
       "      <td>...</td>\n",
       "      <td>...</td>\n",
       "      <td>...</td>\n",
       "    </tr>\n",
       "    <tr>\n",
       "      <th>2012052508092</th>\n",
       "      <td>0.0</td>\n",
       "      <td>0.0</td>\n",
       "      <td>1.0</td>\n",
       "      <td>0.0</td>\n",
       "      <td>0.0</td>\n",
       "      <td>0.2</td>\n",
       "    </tr>\n",
       "    <tr>\n",
       "      <th>2011031520006</th>\n",
       "      <td>1.0</td>\n",
       "      <td>0.0</td>\n",
       "      <td>0.0</td>\n",
       "      <td>0.0</td>\n",
       "      <td>0.0</td>\n",
       "      <td>0.2</td>\n",
       "    </tr>\n",
       "    <tr>\n",
       "      <th>2007073101037</th>\n",
       "      <td>1.0</td>\n",
       "      <td>0.0</td>\n",
       "      <td>0.0</td>\n",
       "      <td>0.0</td>\n",
       "      <td>0.0</td>\n",
       "      <td>0.2</td>\n",
       "    </tr>\n",
       "    <tr>\n",
       "      <th>2007031901062</th>\n",
       "      <td>0.0</td>\n",
       "      <td>1.0</td>\n",
       "      <td>0.0</td>\n",
       "      <td>0.0</td>\n",
       "      <td>0.0</td>\n",
       "      <td>0.2</td>\n",
       "    </tr>\n",
       "    <tr>\n",
       "      <th>2008052304026</th>\n",
       "      <td>0.0</td>\n",
       "      <td>1.0</td>\n",
       "      <td>0.0</td>\n",
       "      <td>0.0</td>\n",
       "      <td>0.0</td>\n",
       "      <td>0.2</td>\n",
       "    </tr>\n",
       "  </tbody>\n",
       "</table>\n",
       "<p>3039 rows × 6 columns</p>\n",
       "</div>"
      ],
      "text/plain": [
       "               collective_  roads_  vehicles_  traffic_  soft_  snitt\n",
       "2011063022001         70.0   515.0        2.0       6.0    0.0  118.6\n",
       "2007050804012        125.0   232.0       93.0       4.0   23.0   95.4\n",
       "2007072001084        131.0   165.0       59.0       3.0    3.0   72.2\n",
       "2007050401075         23.0   106.0      202.0       1.0   12.0   68.8\n",
       "2007031501086         10.0    19.0      308.0       2.0    4.0   68.6\n",
       "...                    ...     ...        ...       ...    ...    ...\n",
       "2012052508092          0.0     0.0        1.0       0.0    0.0    0.2\n",
       "2011031520006          1.0     0.0        0.0       0.0    0.0    0.2\n",
       "2007073101037          1.0     0.0        0.0       0.0    0.0    0.2\n",
       "2007031901062          0.0     1.0        0.0       0.0    0.0    0.2\n",
       "2008052304026          0.0     1.0        0.0       0.0    0.0    0.2\n",
       "\n",
       "[3039 rows x 6 columns]"
      ]
     },
     "execution_count": 150,
     "metadata": {},
     "output_type": "execute_result"
    }
   ],
   "source": [
    "korpus_eval[1960]"
   ]
  },
  {
   "cell_type": "code",
   "execution_count": 204,
   "metadata": {},
   "outputs": [
    {
     "data": {
      "image/png": "[encoded data removed]",
      "text/plain": [
       "<Figure size 1296x576 with 5 Axes>"
      ]
     },
     "metadata": {
      "needs_background": "light"
     },
     "output_type": "display_data"
    }
   ],
   "source": [
    "for i,y in enumerate(korpus_eval):\n",
    "    num = 321 + i\n",
    "    plt.subplot(num)\n",
    "    plotfig(korpus_eval[y].mean()[list(semantics.keys())].sort_values(ascending=False).plot(kind='bar', rot=30, figsize=(18,8), title=str(y)),\n",
    "       font_size = 20) \n",
    "plt.subplots_adjust(top=1.92, bottom=0.08, left=0.10, right=0.95, hspace=0.75,\n",
    "                    wspace=0.35)"
   ]
  },
  {
   "cell_type": "code",
   "execution_count": 140,
   "metadata": {},
   "outputs": [],
   "source": [
    "def plot_together(A, B, aname = \"A\", bname = \"B\", rot = 60):\n",
    "    df = pd.DataFrame()\n",
    "    df[aname] = A\n",
    "    df[bname] = B\n",
    "    plotfig(df.sort_values(by=aname, ascending=False).plot(kind='bar', rot=60, figsize=(15,5), title=\"Comparison mean conditional\"))\n",
    "    return"
   ]
  },
  {
   "cell_type": "code",
   "execution_count": 141,
   "metadata": {},
   "outputs": [
    {
     "data": {
      "image/png": "[encoded data removed]",
      "text/plain": [
       "<Figure size 1080x360 with 1 Axes>"
      ]
     },
     "metadata": {
      "needs_background": "light"
     },
     "output_type": "display_data"
    }
   ],
   "source": [
    "plot_together(korpus1_eval.mean(),\n",
    "              korpus2_eval.mean(), aname = \"K1\", bname = \"K2\")"
   ]
  },
  {
   "cell_type": "code",
   "execution_count": 52,
   "metadata": {},
   "outputs": [],
   "source": [
    "def cross(df, cols = None):\n",
    "    if isinstance(cols, (list, object)):\n",
    "        res = df[cols].transpose().dot(df[cols])\n",
    "    else:\n",
    "        res = df.transpose().dot(df)\n",
    "    return res"
   ]
  },
  {
   "cell_type": "code",
   "execution_count": 53,
   "metadata": {},
   "outputs": [],
   "source": [
    "def cosine_sims(df):\n",
    "    \"\"\" similarity takes rows, so there must be transpose()\"\"\"\n",
    "    cosines = pd.DataFrame(cosine_similarity(df.transpose()))\n",
    "    cosines.columns = df.columns\n",
    "    cosines.index = df.columns\n",
    "    return cosines\n",
    "     "
   ]
  },
  {
   "cell_type": "code",
   "execution_count": 54,
   "metadata": {},
   "outputs": [],
   "source": [
    "def cosine_dists(df):\n",
    "    \"\"\" similarity takes rows, so there must be transpose()\"\"\"\n",
    "    cosines = pd.DataFrame(cosine_distances(df.transpose()))\n",
    "    cosines.columns = df.columns\n",
    "    cosines.index = df.columns\n",
    "    return cosines\n",
    "     "
   ]
  },
  {
   "cell_type": "code",
   "execution_count": 85,
   "metadata": {},
   "outputs": [],
   "source": [
    "def show_info(weighted_frame):\n",
    "    G = nx.from_pandas_adjacency(weighted_frame)\n",
    "    display(Markdown('### Clusters'))\n",
    "    gnl.show_graph(G)\n",
    "    gnl.show_communities(G)\n",
    "    #display(Markdown('### Central'))\n",
    "    #display(nb.frame_sort(nb.frame([x for x in nb.central_betweenness_characters(G)])))"
   ]
  }
 ],
 "metadata": {
  "kernelspec": {
   "display_name": "Python 3",
   "language": "python",
   "name": "python3"
  },
  "language_info": {
   "codemirror_mode": {
    "name": "ipython",
    "version": 3
   },
   "file_extension": ".py",
   "mimetype": "text/x-python",
   "name": "python",
   "nbconvert_exporter": "python",
   "pygments_lexer": "ipython3",
   "version": "3.6.10"
  }
 },
 "nbformat": 4,
 "nbformat_minor": 4
}
