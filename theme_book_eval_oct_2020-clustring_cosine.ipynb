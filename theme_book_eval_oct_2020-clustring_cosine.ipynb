{
 "cells": [
  {
   "cell_type": "markdown",
   "metadata": {},
   "source": [
    "# Analyser bøker med en familie ordsekker"
   ]
  },
  {
   "cell_type": "code",
   "execution_count": 11,
   "metadata": {},
   "outputs": [
    {
     "data": {
      "text/markdown": [
       "Updated file `C:\\Users\\yoons\\Documents\\GitHub\\Trawling\\mods_meta.py`"
      ],
      "text/plain": [
       "<IPython.core.display.Markdown object>"
      ]
     },
     "metadata": {},
     "output_type": "display_data"
    },
    {
     "data": {
      "text/markdown": [
       "Updated file `C:\\Users\\yoons\\Documents\\GitHub\\Trawling\\wordbank.py`"
      ],
      "text/plain": [
       "<IPython.core.display.Markdown object>"
      ]
     },
     "metadata": {},
     "output_type": "display_data"
    }
   ],
   "source": [
    "import json\n",
    "import sqlite3\n",
    "import requests\n",
    "import pandas as pd\n",
    "import dask\n",
    "import pandas as pd\n",
    "import dhlab.module_update as mu\n",
    "mu.update('mods_meta')\n",
    "import mods_meta as mm\n",
    "import dhlab.nbtext as nb\n",
    "import re\n",
    "from IPython.display import Markdown, display\n",
    "from collections import Counter\n",
    "from dhlab.nbtokenizer import tokenize\n",
    "import networkx as nx\n",
    "import dhlab.graph_networkx_louvain as gnl\n",
    "import datetime\n",
    "from scipy.spatial.distance import cosine\n",
    "from sklearn.metrics.pairwise import cosine_similarity, cosine_distances\n",
    "import matplotlib.pyplot as plt\n",
    "from sklearn.preprocessing import StandardScaler\n",
    "import json\n",
    "mu.update('wordbank')"
   ]
  },
  {
   "cell_type": "code",
   "execution_count": 12,
   "metadata": {},
   "outputs": [],
   "source": [
    "from wordbank import word_paradigm_many"
   ]
  },
  {
   "cell_type": "code",
   "execution_count": 2,
   "metadata": {},
   "outputs": [
    {
     "data": {
      "text/html": [
       "<style>@import url(\n",
       "http://fonts.googleapis.com/css?family=Lato|Philosopher|Montserrat|Source+Code+Pro|Istok+Web|Philosopher|Assistant:200,400,700);\n",
       "\n",
       "/*\n",
       "#notebook-container {\n",
       "\t-webkit-box-shadow: none;\n",
       "\tbox-shadow: none;\n",
       "}\n",
       "*/\n",
       "\n",
       "h1, h2, h3, h4, h5, h6 {\n",
       "\tfont-family: 'Montserrat', sans-serif;\n",
       "\tline-height: 2em;\n",
       "    color: #004f99;\n",
       "    font-weight: 600;\n",
       "}\n",
       "\n",
       "h1 { font-size: 4.5em; }\n",
       "h2 { font-size: 4em; }\n",
       "h3 { font-size: 3.5em; }\n",
       "h4 { font-size: 3em; }\n",
       "h5 { font-size: 2.5em; color:DarkSlateGray; }\n",
       "h6 { font-size: 2em; }\n",
       "\n",
       "p {\n",
       "\tfont-family: 'Assistant', sans-serif; \n",
       "\tfont-size: 1.2em;\n",
       "\tline-height: 1.4em;\n",
       "\tcolor: black;\n",
       "}\n",
       "p code {\n",
       "\tfont-size:0.9em;\n",
       "}\n",
       "div.input_area {\n",
       "\tborder:none !important;\n",
       "\tborder-left:1px solid #ff851b !important\n",
       "}\n",
       "\n",
       "span.cm-keyword {\n",
       "\tcolor:#339966 !important;\n",
       "}\n",
       "span.nn {  /*span.cm-variable, span.cm-property*/\n",
       "\tcolor: #3399ff !important;\n",
       "}\n",
       "div.CodeMirror {\n",
       "\tfont-family: 'Inconsolata', monospace;\n",
       "\tfont-size: 1.1em;\n",
       "\t\n",
       "}\n",
       "</style>"
      ],
      "text/plain": [
       "<IPython.core.display.HTML object>"
      ]
     },
     "execution_count": 2,
     "metadata": {},
     "output_type": "execute_result"
    }
   ],
   "source": [
    "mu.css()"
   ]
  },
  {
   "cell_type": "markdown",
   "metadata": {},
   "source": [
    "Set fontsizes for plots etc."
   ]
  },
  {
   "cell_type": "code",
   "execution_count": 4,
   "metadata": {},
   "outputs": [
    {
     "data": {
      "text/markdown": [
       "Updated file `C:\\Users\\yoons\\Documents\\GitHub\\Trawling\\mods_meta.py`"
      ],
      "text/plain": [
       "<IPython.core.display.Markdown object>"
      ]
     },
     "metadata": {},
     "output_type": "display_data"
    },
    {
     "data": {
      "text/markdown": [
       "Updated file `C:\\Users\\yoons\\Documents\\GitHub\\Trawling\\collocations.py`"
      ],
      "text/plain": [
       "<IPython.core.display.Markdown object>"
      ]
     },
     "metadata": {},
     "output_type": "display_data"
    }
   ],
   "source": [
    "from nb_api_kollokasjon_konk import *"
   ]
  },
  {
   "cell_type": "code",
   "execution_count": 5,
   "metadata": {},
   "outputs": [],
   "source": [
    "def corpus_def(urns):\n",
    "    metadata = mm.metadata(urns)\n",
    "    urns = [u for u in metadata if metadata[u] != []]\n",
    "    return nb.frame({u:metadata[u] for u in urns})"
   ]
  },
  {
   "cell_type": "code",
   "execution_count": 6,
   "metadata": {},
   "outputs": [],
   "source": [
    "def evaluate(temaer, corpus):\n",
    "    theme_eval = nb.wordbag_eval(temaer,list(corpus.index))\n",
    "    # legger til metadata\n",
    "    result = theme_eval.join(titlestmnt(corpus))\n",
    "    return result"
   ]
  },
  {
   "cell_type": "code",
   "execution_count": 25,
   "metadata": {},
   "outputs": [],
   "source": [
    "def declensions(wordbagfamily, pos = None):\n",
    "    \"\"\"Set pos to subst, verb or adj for limiting the inflectional forms\"\"\"\n",
    "    if isinstance(pos, list):\n",
    "        res = {key: list(set([w for infl_set in word_paradigm_many(wordbagfamily[key]) for w in infl_set[2] if infl_set [1] in pos])) for key in wordbagfamily}\n",
    "    elif isinstance( pos, str):\n",
    "        res = {key: list(set([w for infl_set in word_paradigm_many(wordbagfamily[key]) for w in infl_set[2] if infl_set [1] == pos])) for key in wordbagfamily}\n",
    "    else:\n",
    "        res = {key: list(set([w for infl_set in word_paradigm_many(wordbagfamily[key]) for w in infl_set[2]])) for key in wordbagfamily}\n",
    "    return res\n",
    "    \n",
    "    "
   ]
  },
  {
   "cell_type": "code",
   "execution_count": 7,
   "metadata": {},
   "outputs": [],
   "source": [
    "titlestmnt = lambda x: pd.DataFrame(x[['245-1-0-a', '245-1-0-b','100-1- -a']])"
   ]
  },
  {
   "cell_type": "markdown",
   "metadata": {},
   "source": [
    "# Lag familien "
   ]
  },
  {
   "cell_type": "markdown",
   "metadata": {},
   "source": [
    "Formen er en samling begreper med markører. De bør helst ikke noe til felles, for å lette tolkning av tellingen."
   ]
  },
  {
   "cell_type": "code",
   "execution_count": 8,
   "metadata": {},
   "outputs": [],
   "source": [
    "semantics = {\n",
    "    'vehicles_': \"kjøretøy biler bil sykkel fly tog buss trikk kollektivtransport lastebiler\".split(),\n",
    "    'roads_': \"vei gate motorvei grusvei sti fortau\".split(),\n",
    "    'traffic_': \"trafikk rushtid\".split(),\n",
    "    'occupants_': \"fotgjengere gående\".split(),\n",
    "}"
   ]
  },
  {
   "cell_type": "markdown",
   "metadata": {},
   "source": [
    "Fyll opp med bøyde former"
   ]
  },
  {
   "cell_type": "code",
   "execution_count": 33,
   "metadata": {},
   "outputs": [],
   "source": [
    "enriched_semantics = declensions(semantics, pos='subs')"
   ]
  },
  {
   "cell_type": "code",
   "execution_count": 34,
   "metadata": {},
   "outputs": [
    {
     "data": {
      "text/plain": [
       "{'vehicles_': ['bussen',\n",
       "  'trikkene',\n",
       "  'lastebilene',\n",
       "  'trikker',\n",
       "  'lastebilen',\n",
       "  'buss',\n",
       "  'kjøretøyer',\n",
       "  'sykkelen',\n",
       "  'trikken',\n",
       "  'kjøretøya',\n",
       "  'flyet',\n",
       "  'sykkel',\n",
       "  'bilen',\n",
       "  'tog',\n",
       "  'flyen',\n",
       "  'sykler',\n",
       "  'flya',\n",
       "  'syklene',\n",
       "  'toga',\n",
       "  'trikk',\n",
       "  'bile',\n",
       "  'lastebil',\n",
       "  'togene',\n",
       "  'lastebiler',\n",
       "  'bussene',\n",
       "  'flyene',\n",
       "  'bil',\n",
       "  'flyer',\n",
       "  'kjøretøy',\n",
       "  'bilene',\n",
       "  'busser',\n",
       "  'trikka',\n",
       "  'fly',\n",
       "  'kjøretøyet',\n",
       "  'bila',\n",
       "  'toget',\n",
       "  'biler',\n",
       "  'trikket',\n",
       "  'kjøretøyene'],\n",
       " 'roads_': ['stia',\n",
       "  'gatene',\n",
       "  'grusveien',\n",
       "  'fortauet',\n",
       "  'vei',\n",
       "  'gate',\n",
       "  'motorveier',\n",
       "  'veiene',\n",
       "  'stiene',\n",
       "  'veier',\n",
       "  'grusvei',\n",
       "  'gata',\n",
       "  'gaten',\n",
       "  'veien',\n",
       "  'motorvei',\n",
       "  'motorveien',\n",
       "  'stier',\n",
       "  'grusveiene',\n",
       "  'fortaua',\n",
       "  'fortauer',\n",
       "  'grusveier',\n",
       "  'fortauene',\n",
       "  'motorveiene',\n",
       "  'gater',\n",
       "  'stien',\n",
       "  'stiet',\n",
       "  'sti',\n",
       "  'fortau'],\n",
       " 'traffic_': ['trafikker',\n",
       "  'rushtider',\n",
       "  'rushtidene',\n",
       "  'rushtid',\n",
       "  'trafikk',\n",
       "  'trafikkene',\n",
       "  'rushtida',\n",
       "  'rushtiden',\n",
       "  'trafikken'],\n",
       " 'occupants_': ['fotgjengerne',\n",
       "  'fotgjengeren',\n",
       "  'fotgjenger',\n",
       "  'fotgjengerer',\n",
       "  'fotgjengere']}"
      ]
     },
     "execution_count": 34,
     "metadata": {},
     "output_type": "execute_result"
    }
   ],
   "source": [
    "enriched_semantics"
   ]
  },
  {
   "cell_type": "markdown",
   "metadata": {},
   "source": [
    "# Definer et korpus ved å sample bøker med metadata"
   ]
  },
  {
   "cell_type": "code",
   "execution_count": 72,
   "metadata": {},
   "outputs": [],
   "source": [
    "korpus1 = mm.metadata([x[1] for x in mm.meta_natbib(lang='nob', yearfrom=1970, yearto = 2010, limit = 5000)])"
   ]
  },
  {
   "cell_type": "code",
   "execution_count": 73,
   "metadata": {},
   "outputs": [],
   "source": [
    "korpus2 = mm.metadata([x[1] for x in mm.meta_natbib(lang='nob', yearfrom=1930, yearto = 1970, limit = 5000)])"
   ]
  },
  {
   "cell_type": "code",
   "execution_count": 74,
   "metadata": {},
   "outputs": [
    {
     "name": "stdout",
     "output_type": "stream",
     "text": [
      "4990 4997\n"
     ]
    }
   ],
   "source": [
    "print(len(korpus2), len(korpus1))"
   ]
  },
  {
   "cell_type": "markdown",
   "metadata": {},
   "source": [
    "# Ta en titt på korpus"
   ]
  },
  {
   "cell_type": "code",
   "execution_count": 75,
   "metadata": {},
   "outputs": [],
   "source": [
    "korpus_1 = nb.frame(korpus1)"
   ]
  },
  {
   "cell_type": "code",
   "execution_count": 76,
   "metadata": {},
   "outputs": [
    {
     "data": {
      "text/html": [
       "<div>\n",
       "<style scoped>\n",
       "    .dataframe tbody tr th:only-of-type {\n",
       "        vertical-align: middle;\n",
       "    }\n",
       "\n",
       "    .dataframe tbody tr th {\n",
       "        vertical-align: top;\n",
       "    }\n",
       "\n",
       "    .dataframe thead th {\n",
       "        text-align: right;\n",
       "    }\n",
       "</style>\n",
       "<table border=\"1\" class=\"dataframe\">\n",
       "  <thead>\n",
       "    <tr style=\"text-align: right;\">\n",
       "      <th></th>\n",
       "      <th>100-1- -a</th>\n",
       "      <th>245-1-0-a</th>\n",
       "      <th>245-1-0-b</th>\n",
       "      <th>260- - -c</th>\n",
       "      <th>653- - -a</th>\n",
       "      <th>lang</th>\n",
       "      <th>year</th>\n",
       "      <th>245-1-3-a</th>\n",
       "      <th>245-1-3-b</th>\n",
       "    </tr>\n",
       "  </thead>\n",
       "  <tbody>\n",
       "    <tr>\n",
       "      <th>2006082200049</th>\n",
       "      <td>Berg, Ole</td>\n",
       "      <td>Hvor demokratisk? :</td>\n",
       "      <td>et essay om det norske politiske system</td>\n",
       "      <td>1978</td>\n",
       "      <td>demokrati, demokrati-teori, folkestyre, norge,...</td>\n",
       "      <td>nob</td>\n",
       "      <td>1978</td>\n",
       "      <td>NaN</td>\n",
       "      <td>NaN</td>\n",
       "    </tr>\n",
       "    <tr>\n",
       "      <th>2006110600020</th>\n",
       "      <td>Slaughter, Frank G.</td>\n",
       "      <td>Doktor Spencer Brade</td>\n",
       "      <td>NaN</td>\n",
       "      <td>1976</td>\n",
       "      <td>skjønnlitteratur/voksen</td>\n",
       "      <td>nob</td>\n",
       "      <td>1976</td>\n",
       "      <td>NaN</td>\n",
       "      <td>NaN</td>\n",
       "    </tr>\n",
       "    <tr>\n",
       "      <th>2006110600052</th>\n",
       "      <td>Sandvik, Tore</td>\n",
       "      <td>Norsk panterett</td>\n",
       "      <td>NaN</td>\n",
       "      <td>cop. 1980</td>\n",
       "      <td>eiendomsrett, juss, norsk, panterett, privatre...</td>\n",
       "      <td>nob</td>\n",
       "      <td>1980</td>\n",
       "      <td>NaN</td>\n",
       "      <td>NaN</td>\n",
       "    </tr>\n",
       "    <tr>\n",
       "      <th>2006110601018</th>\n",
       "      <td>Lie, Haakon</td>\n",
       "      <td>- slik jeg ser det</td>\n",
       "      <td>NaN</td>\n",
       "      <td>1975</td>\n",
       "      <td>1905, 1905-, 1945, 1945-1970, arbeiderbevegels...</td>\n",
       "      <td>nob</td>\n",
       "      <td>1975</td>\n",
       "      <td>NaN</td>\n",
       "      <td>NaN</td>\n",
       "    </tr>\n",
       "    <tr>\n",
       "      <th>2006110601020</th>\n",
       "      <td>Messel, Gunnar</td>\n",
       "      <td>Begrav meg ikke i sand</td>\n",
       "      <td>NaN</td>\n",
       "      <td>1974</td>\n",
       "      <td>skjønnlitteratur/voksen</td>\n",
       "      <td>nob</td>\n",
       "      <td>1974</td>\n",
       "      <td>NaN</td>\n",
       "      <td>NaN</td>\n",
       "    </tr>\n",
       "    <tr>\n",
       "      <th>...</th>\n",
       "      <td>...</td>\n",
       "      <td>...</td>\n",
       "      <td>...</td>\n",
       "      <td>...</td>\n",
       "      <td>...</td>\n",
       "      <td>...</td>\n",
       "      <td>...</td>\n",
       "      <td>...</td>\n",
       "      <td>...</td>\n",
       "    </tr>\n",
       "    <tr>\n",
       "      <th>2018062707187</th>\n",
       "      <td>NaN</td>\n",
       "      <td>NaN</td>\n",
       "      <td>NaN</td>\n",
       "      <td>2010</td>\n",
       "      <td>autonomi, avhengighet, brukermedvirkning, e-sy...</td>\n",
       "      <td>nob</td>\n",
       "      <td>2010</td>\n",
       "      <td>NaN</td>\n",
       "      <td>NaN</td>\n",
       "    </tr>\n",
       "    <tr>\n",
       "      <th>2018071348023</th>\n",
       "      <td>NaN</td>\n",
       "      <td>NaN</td>\n",
       "      <td>NaN</td>\n",
       "      <td>1987</td>\n",
       "      <td>borge, nordland, valberg, vestvågøy</td>\n",
       "      <td>nob</td>\n",
       "      <td>1987</td>\n",
       "      <td>NaN</td>\n",
       "      <td>NaN</td>\n",
       "    </tr>\n",
       "    <tr>\n",
       "      <th>2018071807166</th>\n",
       "      <td>NaN</td>\n",
       "      <td>NaN</td>\n",
       "      <td>NaN</td>\n",
       "      <td>2010</td>\n",
       "      <td>NaN</td>\n",
       "      <td>nob</td>\n",
       "      <td>2010</td>\n",
       "      <td>NaN</td>\n",
       "      <td>NaN</td>\n",
       "    </tr>\n",
       "    <tr>\n",
       "      <th>2018082007011</th>\n",
       "      <td>NaN</td>\n",
       "      <td>NaN</td>\n",
       "      <td>NaN</td>\n",
       "      <td>2010</td>\n",
       "      <td>NaN</td>\n",
       "      <td>nob</td>\n",
       "      <td>2010</td>\n",
       "      <td>NaN</td>\n",
       "      <td>NaN</td>\n",
       "    </tr>\n",
       "    <tr>\n",
       "      <th>2018111205013</th>\n",
       "      <td>NaN</td>\n",
       "      <td>NaN</td>\n",
       "      <td>NaN</td>\n",
       "      <td>2009</td>\n",
       "      <td>arbeid, barnevern, brukermedvirkning, eldreoms...</td>\n",
       "      <td>nob</td>\n",
       "      <td>2009</td>\n",
       "      <td>NaN</td>\n",
       "      <td>NaN</td>\n",
       "    </tr>\n",
       "  </tbody>\n",
       "</table>\n",
       "<p>4997 rows × 9 columns</p>\n",
       "</div>"
      ],
      "text/plain": [
       "                         100-1- -a               245-1-0-a  \\\n",
       "2006082200049            Berg, Ole     Hvor demokratisk? :   \n",
       "2006110600020  Slaughter, Frank G.    Doktor Spencer Brade   \n",
       "2006110600052        Sandvik, Tore         Norsk panterett   \n",
       "2006110601018          Lie, Haakon      - slik jeg ser det   \n",
       "2006110601020       Messel, Gunnar  Begrav meg ikke i sand   \n",
       "...                            ...                     ...   \n",
       "2018062707187                  NaN                     NaN   \n",
       "2018071348023                  NaN                     NaN   \n",
       "2018071807166                  NaN                     NaN   \n",
       "2018082007011                  NaN                     NaN   \n",
       "2018111205013                  NaN                     NaN   \n",
       "\n",
       "                                             245-1-0-b  260- - -c  \\\n",
       "2006082200049  et essay om det norske politiske system       1978   \n",
       "2006110600020                                      NaN       1976   \n",
       "2006110600052                                      NaN  cop. 1980   \n",
       "2006110601018                                      NaN       1975   \n",
       "2006110601020                                      NaN       1974   \n",
       "...                                                ...        ...   \n",
       "2018062707187                                      NaN       2010   \n",
       "2018071348023                                      NaN       1987   \n",
       "2018071807166                                      NaN       2010   \n",
       "2018082007011                                      NaN       2010   \n",
       "2018111205013                                      NaN       2009   \n",
       "\n",
       "                                                       653- - -a lang  year  \\\n",
       "2006082200049  demokrati, demokrati-teori, folkestyre, norge,...  nob  1978   \n",
       "2006110600020                            skjønnlitteratur/voksen  nob  1976   \n",
       "2006110600052  eiendomsrett, juss, norsk, panterett, privatre...  nob  1980   \n",
       "2006110601018  1905, 1905-, 1945, 1945-1970, arbeiderbevegels...  nob  1975   \n",
       "2006110601020                            skjønnlitteratur/voksen  nob  1974   \n",
       "...                                                          ...  ...   ...   \n",
       "2018062707187  autonomi, avhengighet, brukermedvirkning, e-sy...  nob  2010   \n",
       "2018071348023                borge, nordland, valberg, vestvågøy  nob  1987   \n",
       "2018071807166                                                NaN  nob  2010   \n",
       "2018082007011                                                NaN  nob  2010   \n",
       "2018111205013  arbeid, barnevern, brukermedvirkning, eldreoms...  nob  2009   \n",
       "\n",
       "              245-1-3-a 245-1-3-b  \n",
       "2006082200049       NaN       NaN  \n",
       "2006110600020       NaN       NaN  \n",
       "2006110600052       NaN       NaN  \n",
       "2006110601018       NaN       NaN  \n",
       "2006110601020       NaN       NaN  \n",
       "...                 ...       ...  \n",
       "2018062707187       NaN       NaN  \n",
       "2018071348023       NaN       NaN  \n",
       "2018071807166       NaN       NaN  \n",
       "2018082007011       NaN       NaN  \n",
       "2018111205013       NaN       NaN  \n",
       "\n",
       "[4997 rows x 9 columns]"
      ]
     },
     "execution_count": 76,
     "metadata": {},
     "output_type": "execute_result"
    }
   ],
   "source": [
    "korpus_1"
   ]
  },
  {
   "cell_type": "code",
   "execution_count": 77,
   "metadata": {},
   "outputs": [],
   "source": [
    "korpus_2 = nb.frame(korpus2)"
   ]
  },
  {
   "cell_type": "markdown",
   "metadata": {},
   "source": [
    "# Evaluate corpus against categories"
   ]
  },
  {
   "cell_type": "code",
   "execution_count": 78,
   "metadata": {},
   "outputs": [],
   "source": [
    "korpus1_eval = evaluate(enriched_semantics, korpus_1)"
   ]
  },
  {
   "cell_type": "code",
   "execution_count": 79,
   "metadata": {},
   "outputs": [],
   "source": [
    "korpus2_eval = evaluate(enriched_semantics, korpus_2)"
   ]
  },
  {
   "cell_type": "code",
   "execution_count": 68,
   "metadata": {},
   "outputs": [],
   "source": [
    "def one(x):\n",
    "    \n",
    "    if isinstance(x, (float, int)) and x > 0:\n",
    "        res = 1\n",
    "    elif isinstance(x, (float, int)):\n",
    "        res = 0\n",
    "    else:\n",
    "        res = x\n",
    "    return res"
   ]
  },
  {
   "cell_type": "code",
   "execution_count": 69,
   "metadata": {},
   "outputs": [],
   "source": [
    "def plotfig(a_plot, font_size = 18):\n",
    "    fsize = plt.rcParams[\"font.size\"]\n",
    "    plt.rcParams[\"font.size\"] = font_size\n",
    "    ax = a_plot\n",
    "    ax.spines[\"top\"].set_visible(False)\n",
    "    ax.spines[\"right\"].set_visible(False)\n",
    "    ax.spines[\"bottom\"].set_color(\"grey\")\n",
    "    ax.spines[\"left\"].set_color(\"grey\")\n",
    "    ax.spines[\"bottom\"].set_linewidth(1)\n",
    "    ax.spines[\"left\"].set_linewidth(1)\n",
    "    #plt.rcParams[\"font.size\"] = fsize\n",
    "    return\n"
   ]
  },
  {
   "cell_type": "code",
   "execution_count": 80,
   "metadata": {},
   "outputs": [
    {
     "data": {
      "text/html": [
       "<div>\n",
       "<style scoped>\n",
       "    .dataframe tbody tr th:only-of-type {\n",
       "        vertical-align: middle;\n",
       "    }\n",
       "\n",
       "    .dataframe tbody tr th {\n",
       "        vertical-align: top;\n",
       "    }\n",
       "\n",
       "    .dataframe thead th {\n",
       "        text-align: right;\n",
       "    }\n",
       "</style>\n",
       "<table border=\"1\" class=\"dataframe\">\n",
       "  <thead>\n",
       "    <tr style=\"text-align: right;\">\n",
       "      <th></th>\n",
       "      <th>roads_</th>\n",
       "      <th>vehicles_</th>\n",
       "      <th>traffic_</th>\n",
       "      <th>occupants_</th>\n",
       "      <th>snitt</th>\n",
       "      <th>245-1-0-a</th>\n",
       "      <th>245-1-0-b</th>\n",
       "      <th>100-1- -a</th>\n",
       "    </tr>\n",
       "  </thead>\n",
       "  <tbody>\n",
       "    <tr>\n",
       "      <th>2011011003047</th>\n",
       "      <td>2095.0</td>\n",
       "      <td>129.0</td>\n",
       "      <td>61.0</td>\n",
       "      <td>1.0</td>\n",
       "      <td>571.50</td>\n",
       "      <td>Bergen byleksikon</td>\n",
       "      <td>NaN</td>\n",
       "      <td>Hartvedt, Gunnar Hagen</td>\n",
       "    </tr>\n",
       "    <tr>\n",
       "      <th>2014031306105</th>\n",
       "      <td>2007.0</td>\n",
       "      <td>80.0</td>\n",
       "      <td>43.0</td>\n",
       "      <td>1.0</td>\n",
       "      <td>532.75</td>\n",
       "      <td>Bergen byleksikon</td>\n",
       "      <td>NaN</td>\n",
       "      <td>Hartvedt, Gunnar Hagen</td>\n",
       "    </tr>\n",
       "    <tr>\n",
       "      <th>2009032600059</th>\n",
       "      <td>1193.0</td>\n",
       "      <td>128.0</td>\n",
       "      <td>2.0</td>\n",
       "      <td>0.0</td>\n",
       "      <td>330.75</td>\n",
       "      <td>Turguide til Kanariøyene :</td>\n",
       "      <td>50 flotte fotturer på Kanariøyene</td>\n",
       "      <td>Løvland, Anita</td>\n",
       "    </tr>\n",
       "    <tr>\n",
       "      <th>2010092103018</th>\n",
       "      <td>30.0</td>\n",
       "      <td>989.0</td>\n",
       "      <td>76.0</td>\n",
       "      <td>6.0</td>\n",
       "      <td>275.25</td>\n",
       "      <td>Veien til førerkortet :</td>\n",
       "      <td>buss, lastebil, vogntog</td>\n",
       "      <td>Borch, Klaus</td>\n",
       "    </tr>\n",
       "    <tr>\n",
       "      <th>2008011800080</th>\n",
       "      <td>394.0</td>\n",
       "      <td>442.0</td>\n",
       "      <td>26.0</td>\n",
       "      <td>4.0</td>\n",
       "      <td>216.50</td>\n",
       "      <td>Uten anger</td>\n",
       "      <td>NaN</td>\n",
       "      <td>Clancy, Tom</td>\n",
       "    </tr>\n",
       "    <tr>\n",
       "      <th>...</th>\n",
       "      <td>...</td>\n",
       "      <td>...</td>\n",
       "      <td>...</td>\n",
       "      <td>...</td>\n",
       "      <td>...</td>\n",
       "      <td>...</td>\n",
       "      <td>...</td>\n",
       "      <td>...</td>\n",
       "    </tr>\n",
       "    <tr>\n",
       "      <th>2009061104031</th>\n",
       "      <td>1.0</td>\n",
       "      <td>0.0</td>\n",
       "      <td>0.0</td>\n",
       "      <td>0.0</td>\n",
       "      <td>0.25</td>\n",
       "      <td>Mobbing kan stoppes! :</td>\n",
       "      <td>håndbok for skolen</td>\n",
       "      <td>Høiby, Helle</td>\n",
       "    </tr>\n",
       "    <tr>\n",
       "      <th>2013011706069</th>\n",
       "      <td>1.0</td>\n",
       "      <td>0.0</td>\n",
       "      <td>0.0</td>\n",
       "      <td>0.0</td>\n",
       "      <td>0.25</td>\n",
       "      <td>Turn og jazzgymnastikk</td>\n",
       "      <td>NaN</td>\n",
       "      <td>Sørensen, Ragna</td>\n",
       "    </tr>\n",
       "    <tr>\n",
       "      <th>2015042348025</th>\n",
       "      <td>1.0</td>\n",
       "      <td>0.0</td>\n",
       "      <td>0.0</td>\n",
       "      <td>0.0</td>\n",
       "      <td>0.25</td>\n",
       "      <td>NaN</td>\n",
       "      <td>NaN</td>\n",
       "      <td>NaN</td>\n",
       "    </tr>\n",
       "    <tr>\n",
       "      <th>2013012108106</th>\n",
       "      <td>1.0</td>\n",
       "      <td>0.0</td>\n",
       "      <td>0.0</td>\n",
       "      <td>0.0</td>\n",
       "      <td>0.25</td>\n",
       "      <td>NaN</td>\n",
       "      <td>NaN</td>\n",
       "      <td>NaN</td>\n",
       "    </tr>\n",
       "    <tr>\n",
       "      <th>2012032038001</th>\n",
       "      <td>1.0</td>\n",
       "      <td>0.0</td>\n",
       "      <td>0.0</td>\n",
       "      <td>0.0</td>\n",
       "      <td>0.25</td>\n",
       "      <td>NaN</td>\n",
       "      <td>NaN</td>\n",
       "      <td>NaN</td>\n",
       "    </tr>\n",
       "  </tbody>\n",
       "</table>\n",
       "<p>3882 rows × 8 columns</p>\n",
       "</div>"
      ],
      "text/plain": [
       "               roads_  vehicles_  traffic_  occupants_   snitt  \\\n",
       "2011011003047  2095.0      129.0      61.0         1.0  571.50   \n",
       "2014031306105  2007.0       80.0      43.0         1.0  532.75   \n",
       "2009032600059  1193.0      128.0       2.0         0.0  330.75   \n",
       "2010092103018    30.0      989.0      76.0         6.0  275.25   \n",
       "2008011800080   394.0      442.0      26.0         4.0  216.50   \n",
       "...               ...        ...       ...         ...     ...   \n",
       "2009061104031     1.0        0.0       0.0         0.0    0.25   \n",
       "2013011706069     1.0        0.0       0.0         0.0    0.25   \n",
       "2015042348025     1.0        0.0       0.0         0.0    0.25   \n",
       "2013012108106     1.0        0.0       0.0         0.0    0.25   \n",
       "2012032038001     1.0        0.0       0.0         0.0    0.25   \n",
       "\n",
       "                                245-1-0-a                          245-1-0-b  \\\n",
       "2011011003047           Bergen byleksikon                                NaN   \n",
       "2014031306105           Bergen byleksikon                                NaN   \n",
       "2009032600059  Turguide til Kanariøyene :  50 flotte fotturer på Kanariøyene   \n",
       "2010092103018     Veien til førerkortet :            buss, lastebil, vogntog   \n",
       "2008011800080                  Uten anger                                NaN   \n",
       "...                                   ...                                ...   \n",
       "2009061104031      Mobbing kan stoppes! :                 håndbok for skolen   \n",
       "2013011706069      Turn og jazzgymnastikk                                NaN   \n",
       "2015042348025                         NaN                                NaN   \n",
       "2013012108106                         NaN                                NaN   \n",
       "2012032038001                         NaN                                NaN   \n",
       "\n",
       "                            100-1- -a  \n",
       "2011011003047  Hartvedt, Gunnar Hagen  \n",
       "2014031306105  Hartvedt, Gunnar Hagen  \n",
       "2009032600059          Løvland, Anita  \n",
       "2010092103018            Borch, Klaus  \n",
       "2008011800080             Clancy, Tom  \n",
       "...                               ...  \n",
       "2009061104031            Høiby, Helle  \n",
       "2013011706069         Sørensen, Ragna  \n",
       "2015042348025                     NaN  \n",
       "2013012108106                     NaN  \n",
       "2012032038001                     NaN  \n",
       "\n",
       "[3882 rows x 8 columns]"
      ]
     },
     "execution_count": 80,
     "metadata": {},
     "output_type": "execute_result"
    }
   ],
   "source": [
    "korpus1_eval"
   ]
  },
  {
   "cell_type": "code",
   "execution_count": 81,
   "metadata": {},
   "outputs": [
    {
     "data": {
      "image/png": "[encoded data removed]",
      "text/plain": [
       "<Figure size 1296x360 with 1 Axes>"
      ]
     },
     "metadata": {
      "needs_background": "light"
     },
     "output_type": "display_data"
    }
   ],
   "source": [
    "plotfig(korpus1_eval.mean().sort_values(ascending=False).plot(kind='bar', rot=60, figsize=(18,5)),\n",
    "       font_size = 20)"
   ]
  },
  {
   "cell_type": "code",
   "execution_count": 82,
   "metadata": {},
   "outputs": [
    {
     "data": {
      "image/png": "[encoded data removed]",
      "text/plain": [
       "<Figure size 1080x360 with 1 Axes>"
      ]
     },
     "metadata": {
      "needs_background": "light"
     },
     "output_type": "display_data"
    }
   ],
   "source": [
    "plotfig(korpus2_eval.mean().sort_values(ascending=False).plot(kind='bar', rot=60, figsize=(15,5), title=\"Children mean\"))"
   ]
  },
  {
   "cell_type": "code",
   "execution_count": 83,
   "metadata": {},
   "outputs": [],
   "source": [
    "def plot_together(A, B, aname = \"A\", bname = \"B\", rot = 60):\n",
    "    df = pd.DataFrame()\n",
    "    df[aname] = A\n",
    "    df[bname] = B\n",
    "    plotfig(df.sort_values(by=aname, ascending=False).plot(kind='bar', rot=60, figsize=(15,5), title=\"Comparison mean conditional\"))\n",
    "    return"
   ]
  },
  {
   "cell_type": "code",
   "execution_count": 84,
   "metadata": {},
   "outputs": [
    {
     "data": {
      "image/png": "[encoded data removed]",
      "text/plain": [
       "<Figure size 1080x360 with 1 Axes>"
      ]
     },
     "metadata": {
      "needs_background": "light"
     },
     "output_type": "display_data"
    }
   ],
   "source": [
    "plot_together(korpus1_eval.mean(),\n",
    "              korpus2_eval.mean(), aname = \"K1\", bname = \"K2\")"
   ]
  },
  {
   "cell_type": "code",
   "execution_count": 52,
   "metadata": {},
   "outputs": [],
   "source": [
    "def cross(df, cols = None):\n",
    "    if isinstance(cols, (list, object)):\n",
    "        res = df[cols].transpose().dot(df[cols])\n",
    "    else:\n",
    "        res = df.transpose().dot(df)\n",
    "    return res"
   ]
  },
  {
   "cell_type": "code",
   "execution_count": 53,
   "metadata": {},
   "outputs": [],
   "source": [
    "def cosine_sims(df):\n",
    "    \"\"\" similarity takes rows, so there must be transpose()\"\"\"\n",
    "    cosines = pd.DataFrame(cosine_similarity(df.transpose()))\n",
    "    cosines.columns = df.columns\n",
    "    cosines.index = df.columns\n",
    "    return cosines\n",
    "     "
   ]
  },
  {
   "cell_type": "code",
   "execution_count": 54,
   "metadata": {},
   "outputs": [],
   "source": [
    "def cosine_dists(df):\n",
    "    \"\"\" similarity takes rows, so there must be transpose()\"\"\"\n",
    "    cosines = pd.DataFrame(cosine_distances(df.transpose()))\n",
    "    cosines.columns = df.columns\n",
    "    cosines.index = df.columns\n",
    "    return cosines\n",
    "     "
   ]
  },
  {
   "cell_type": "code",
   "execution_count": 85,
   "metadata": {},
   "outputs": [],
   "source": [
    "def show_info(weighted_frame):\n",
    "    G = nx.from_pandas_adjacency(weighted_frame)\n",
    "    display(Markdown('### Clusters'))\n",
    "    gnl.show_graph(G)\n",
    "    gnl.show_communities(G)\n",
    "    #display(Markdown('### Central'))\n",
    "    #display(nb.frame_sort(nb.frame([x for x in nb.central_betweenness_characters(G)])))"
   ]
  }
 ],
 "metadata": {
  "kernelspec": {
   "display_name": "Python 3",
   "language": "python",
   "name": "python3"
  },
  "language_info": {
   "codemirror_mode": {
    "name": "ipython",
    "version": 3
   },
   "file_extension": ".py",
   "mimetype": "text/x-python",
   "name": "python",
   "nbconvert_exporter": "python",
   "pygments_lexer": "ipython3",
   "version": "3.6.10"
  }
 },
 "nbformat": 4,
 "nbformat_minor": 4
}
